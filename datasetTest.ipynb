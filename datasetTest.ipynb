{
 "cells": [
  {
   "cell_type": "code",
   "execution_count": 133,
   "metadata": {},
   "outputs": [],
   "source": [
    "import pandas as pd\n",
    "from math import sqrt\n",
    "import datetime\n",
    "import numpy as np\n",
    "import re"
   ]
  },
  {
   "cell_type": "code",
   "execution_count": 275,
   "metadata": {},
   "outputs": [],
   "source": [
    "usersDF = pd.read_csv('../../../Downloads/myanimelist/users_cleaned.csv')\n",
    "animesDF = pd.read_csv('../../../Downloads/myanimelist/animesDF.csv')\n",
    "scoresDF = pd.read_csv('../../../Downloads/myanimelist/scores.csv')"
   ]
  },
  {
   "cell_type": "code",
   "execution_count": 300,
   "metadata": {},
   "outputs": [
    {
     "name": "stdout",
     "output_type": "stream",
     "text": [
      "(108711, 17) (1711, 33) (473523, 4)\n"
     ]
    }
   ],
   "source": [
    "print(usersDF.shape, animesDF.shape, scoresDF.shape)"
   ]
  },
  {
   "cell_type": "code",
   "execution_count": 298,
   "metadata": {},
   "outputs": [
    {
     "data": {
      "text/plain": [
       "1711"
      ]
     },
     "execution_count": 298,
     "metadata": {},
     "output_type": "execute_result"
    }
   ],
   "source": [
    "anime_ids = np.sort(animesDF.anime_id.unique())\n",
    "len(anime_ids)"
   ]
  },
  {
   "cell_type": "code",
   "execution_count": 288,
   "metadata": {},
   "outputs": [],
   "source": [
    "top_1000_users = list(usersDF.sort_values(by=['user_completed'], ascending=False).head(1000)['username'])"
   ]
  },
  {
   "cell_type": "code",
   "execution_count": 289,
   "metadata": {},
   "outputs": [],
   "source": [
    "#scoresDF = scoresDF.sample(n=10000, random_state=15)\n",
    "#scoresDF.to_csv('../../../Downloads/myanimelist/scores_sample.csv', index=False)"
   ]
  },
  {
   "cell_type": "code",
   "execution_count": 290,
   "metadata": {},
   "outputs": [],
   "source": [
    "scoresDF = scoresDF[scoresDF['username'].isin(top_1000_users)]"
   ]
  },
  {
   "cell_type": "code",
   "execution_count": 299,
   "metadata": {},
   "outputs": [],
   "source": [
    "scoresDF = scoresDF[scoresDF['anime_id'].isin(anime_ids)]"
   ]
  },
  {
   "cell_type": "code",
   "execution_count": 291,
   "metadata": {},
   "outputs": [],
   "source": [
    "animesDF = animesDF[(animesDF['duration_min']>=24) \\\n",
    "                    & (animesDF['aired_from_year']>=2000) \\\n",
    "                    & ~(animesDF.related.str.contains('Prequel')) \\\n",
    "                    & ~(animesDF.genre.str.contains('Kids')) \\\n",
    "                    & ~(animesDF.genre.str.contains('Shoujo Ai')) \\\n",
    "                    & ~(animesDF.genre.str.contains('Shounen Ai')) \\\n",
    "                    & ~(animesDF.genre.str.contains('Yaoi')) \\\n",
    "                    & ~(animesDF.genre.str.contains('Yuri'))]\n",
    "animesDF.to_csv('../../../Downloads/myanimelist/animesDF.csv', index=False)"
   ]
  },
  {
   "cell_type": "code",
   "execution_count": 295,
   "metadata": {
    "scrolled": true
   },
   "outputs": [
    {
     "data": {
      "text/html": [
       "<div>\n",
       "<style scoped>\n",
       "    .dataframe tbody tr th:only-of-type {\n",
       "        vertical-align: middle;\n",
       "    }\n",
       "\n",
       "    .dataframe tbody tr th {\n",
       "        vertical-align: top;\n",
       "    }\n",
       "\n",
       "    .dataframe thead th {\n",
       "        text-align: right;\n",
       "    }\n",
       "</style>\n",
       "<table border=\"1\" class=\"dataframe\">\n",
       "  <thead>\n",
       "    <tr style=\"text-align: right;\">\n",
       "      <th></th>\n",
       "      <th>anime_id</th>\n",
       "      <th>title</th>\n",
       "      <th>title_english</th>\n",
       "      <th>title_japanese</th>\n",
       "      <th>title_synonyms</th>\n",
       "      <th>image_url</th>\n",
       "      <th>type</th>\n",
       "      <th>source</th>\n",
       "      <th>episodes</th>\n",
       "      <th>status</th>\n",
       "      <th>...</th>\n",
       "      <th>broadcast</th>\n",
       "      <th>related</th>\n",
       "      <th>producer</th>\n",
       "      <th>licensor</th>\n",
       "      <th>studio</th>\n",
       "      <th>genre</th>\n",
       "      <th>opening_theme</th>\n",
       "      <th>ending_theme</th>\n",
       "      <th>duration_min</th>\n",
       "      <th>aired_from_year</th>\n",
       "    </tr>\n",
       "  </thead>\n",
       "  <tbody>\n",
       "    <tr>\n",
       "      <th>1327</th>\n",
       "      <td>5</td>\n",
       "      <td>Cowboy Bebop: Tengoku no Tobira</td>\n",
       "      <td>Cowboy Bebop: The Movie</td>\n",
       "      <td>カウボーイビバップ天国の扉</td>\n",
       "      <td>Cowboy Bebop: Knockin&amp;#039; on Heaven&amp;#039;s Door</td>\n",
       "      <td>https://myanimelist.cdn-dena.com/images/anime/...</td>\n",
       "      <td>Movie</td>\n",
       "      <td>Original</td>\n",
       "      <td>1</td>\n",
       "      <td>Finished Airing</td>\n",
       "      <td>...</td>\n",
       "      <td>NaN</td>\n",
       "      <td>{'Parent story': [{'mal_id': 1, 'type': 'anime...</td>\n",
       "      <td>Sunrise, Bandai Visual</td>\n",
       "      <td>Sony Pictures Entertainment</td>\n",
       "      <td>Bones</td>\n",
       "      <td>Action, Space, Drama, Mystery, Sci-Fi</td>\n",
       "      <td>['\"Ask DNA\" by The Seatbelts featuring Raju Ra...</td>\n",
       "      <td>['\"Gotta Knock a Little Harder\" by The Seatbel...</td>\n",
       "      <td>114.0</td>\n",
       "      <td>2001.0</td>\n",
       "    </tr>\n",
       "    <tr>\n",
       "      <th>1217</th>\n",
       "      <td>7</td>\n",
       "      <td>Witch Hunter Robin</td>\n",
       "      <td>Witch Hunter Robin</td>\n",
       "      <td>Witch Hunter ROBIN</td>\n",
       "      <td>WHR</td>\n",
       "      <td>https://myanimelist.cdn-dena.com/images/anime/...</td>\n",
       "      <td>TV</td>\n",
       "      <td>Original</td>\n",
       "      <td>26</td>\n",
       "      <td>Finished Airing</td>\n",
       "      <td>...</td>\n",
       "      <td>Tuesdays at Unknown</td>\n",
       "      <td>[]</td>\n",
       "      <td>Bandai Visual</td>\n",
       "      <td>Funimation, Bandai Entertainment</td>\n",
       "      <td>Sunrise</td>\n",
       "      <td>Action, Magic, Police, Supernatural, Drama, My...</td>\n",
       "      <td>['\"Shell\" by Bana']</td>\n",
       "      <td>['#1: \"Half Pain\" by Bana (eps 01-14,16-25)', ...</td>\n",
       "      <td>25.0</td>\n",
       "      <td>2002.0</td>\n",
       "    </tr>\n",
       "    <tr>\n",
       "      <th>925</th>\n",
       "      <td>19</td>\n",
       "      <td>Monster</td>\n",
       "      <td>Monster</td>\n",
       "      <td>モンスター</td>\n",
       "      <td>NaN</td>\n",
       "      <td>https://myanimelist.cdn-dena.com/images/anime/...</td>\n",
       "      <td>TV</td>\n",
       "      <td>Manga</td>\n",
       "      <td>74</td>\n",
       "      <td>Finished Airing</td>\n",
       "      <td>...</td>\n",
       "      <td>Wednesdays at 00:40 (JST)</td>\n",
       "      <td>{'Adaptation': [{'mal_id': 1, 'type': 'manga',...</td>\n",
       "      <td>VAP, Shogakukan Productions, Nippon Television...</td>\n",
       "      <td>Viz Media</td>\n",
       "      <td>Madhouse</td>\n",
       "      <td>Drama, Horror, Mystery, Police, Psychological,...</td>\n",
       "      <td>['\"Grain\" by Kuniaki Haishima']</td>\n",
       "      <td>['#1: \"For The Love of Life\" by David Sylvian ...</td>\n",
       "      <td>24.0</td>\n",
       "      <td>2004.0</td>\n",
       "    </tr>\n",
       "    <tr>\n",
       "      <th>1171</th>\n",
       "      <td>23</td>\n",
       "      <td>Ring ni Kakero 1</td>\n",
       "      <td>NaN</td>\n",
       "      <td>リングにかけろ１</td>\n",
       "      <td>Put it all in the Ring</td>\n",
       "      <td>https://myanimelist.cdn-dena.com/images/anime/...</td>\n",
       "      <td>TV</td>\n",
       "      <td>Manga</td>\n",
       "      <td>12</td>\n",
       "      <td>Finished Airing</td>\n",
       "      <td>...</td>\n",
       "      <td>Unknown</td>\n",
       "      <td>{'Adaptation': [{'mal_id': 14231, 'type': 'man...</td>\n",
       "      <td>NaN</td>\n",
       "      <td>NaN</td>\n",
       "      <td>Toei Animation</td>\n",
       "      <td>Action, Shounen, Sports</td>\n",
       "      <td>['\"Asu eno Toushi\" by Marina del ray']</td>\n",
       "      <td>['\"TAKE MY SOUL FOREVER\" by Psychic Lover']</td>\n",
       "      <td>25.0</td>\n",
       "      <td>2004.0</td>\n",
       "    </tr>\n",
       "    <tr>\n",
       "      <th>338</th>\n",
       "      <td>25</td>\n",
       "      <td>Sunabouzu</td>\n",
       "      <td>Desert Punk</td>\n",
       "      <td>砂ぼうず</td>\n",
       "      <td>Sunabozu</td>\n",
       "      <td>https://myanimelist.cdn-dena.com/images/anime/...</td>\n",
       "      <td>TV</td>\n",
       "      <td>Manga</td>\n",
       "      <td>24</td>\n",
       "      <td>Finished Airing</td>\n",
       "      <td>...</td>\n",
       "      <td>Unknown</td>\n",
       "      <td>{'Adaptation': [{'mal_id': 10016, 'type': 'man...</td>\n",
       "      <td>GDH, Pony Canyon, CBC</td>\n",
       "      <td>Funimation</td>\n",
       "      <td>Gonzo</td>\n",
       "      <td>Action, Adventure, Comedy, Ecchi, Sci-Fi, Shounen</td>\n",
       "      <td>['#1: \"Sand Mission\" by ZETKI (eps 1-11)', '#2...</td>\n",
       "      <td>['#1: \"Sunabouzu Ekaki Uta\" by Hideaki Takator...</td>\n",
       "      <td>24.0</td>\n",
       "      <td>2004.0</td>\n",
       "    </tr>\n",
       "  </tbody>\n",
       "</table>\n",
       "<p>5 rows × 33 columns</p>\n",
       "</div>"
      ],
      "text/plain": [
       "      anime_id                            title            title_english  \\\n",
       "1327         5  Cowboy Bebop: Tengoku no Tobira  Cowboy Bebop: The Movie   \n",
       "1217         7               Witch Hunter Robin       Witch Hunter Robin   \n",
       "925         19                          Monster                  Monster   \n",
       "1171        23                 Ring ni Kakero 1                      NaN   \n",
       "338         25                        Sunabouzu              Desert Punk   \n",
       "\n",
       "          title_japanese                                     title_synonyms  \\\n",
       "1327       カウボーイビバップ天国の扉  Cowboy Bebop: Knockin&#039; on Heaven&#039;s Door   \n",
       "1217  Witch Hunter ROBIN                                                WHR   \n",
       "925                モンスター                                                NaN   \n",
       "1171            リングにかけろ１                             Put it all in the Ring   \n",
       "338                 砂ぼうず                                           Sunabozu   \n",
       "\n",
       "                                              image_url   type    source  \\\n",
       "1327  https://myanimelist.cdn-dena.com/images/anime/...  Movie  Original   \n",
       "1217  https://myanimelist.cdn-dena.com/images/anime/...     TV  Original   \n",
       "925   https://myanimelist.cdn-dena.com/images/anime/...     TV     Manga   \n",
       "1171  https://myanimelist.cdn-dena.com/images/anime/...     TV     Manga   \n",
       "338   https://myanimelist.cdn-dena.com/images/anime/...     TV     Manga   \n",
       "\n",
       "      episodes           status  ...                  broadcast  \\\n",
       "1327         1  Finished Airing  ...                        NaN   \n",
       "1217        26  Finished Airing  ...        Tuesdays at Unknown   \n",
       "925         74  Finished Airing  ...  Wednesdays at 00:40 (JST)   \n",
       "1171        12  Finished Airing  ...                    Unknown   \n",
       "338         24  Finished Airing  ...                    Unknown   \n",
       "\n",
       "                                                related  \\\n",
       "1327  {'Parent story': [{'mal_id': 1, 'type': 'anime...   \n",
       "1217                                                 []   \n",
       "925   {'Adaptation': [{'mal_id': 1, 'type': 'manga',...   \n",
       "1171  {'Adaptation': [{'mal_id': 14231, 'type': 'man...   \n",
       "338   {'Adaptation': [{'mal_id': 10016, 'type': 'man...   \n",
       "\n",
       "                                               producer  \\\n",
       "1327                             Sunrise, Bandai Visual   \n",
       "1217                                      Bandai Visual   \n",
       "925   VAP, Shogakukan Productions, Nippon Television...   \n",
       "1171                                                NaN   \n",
       "338                               GDH, Pony Canyon, CBC   \n",
       "\n",
       "                              licensor          studio  \\\n",
       "1327       Sony Pictures Entertainment           Bones   \n",
       "1217  Funimation, Bandai Entertainment         Sunrise   \n",
       "925                          Viz Media        Madhouse   \n",
       "1171                               NaN  Toei Animation   \n",
       "338                         Funimation           Gonzo   \n",
       "\n",
       "                                                  genre  \\\n",
       "1327              Action, Space, Drama, Mystery, Sci-Fi   \n",
       "1217  Action, Magic, Police, Supernatural, Drama, My...   \n",
       "925   Drama, Horror, Mystery, Police, Psychological,...   \n",
       "1171                            Action, Shounen, Sports   \n",
       "338   Action, Adventure, Comedy, Ecchi, Sci-Fi, Shounen   \n",
       "\n",
       "                                          opening_theme  \\\n",
       "1327  ['\"Ask DNA\" by The Seatbelts featuring Raju Ra...   \n",
       "1217                                ['\"Shell\" by Bana']   \n",
       "925                     ['\"Grain\" by Kuniaki Haishima']   \n",
       "1171             ['\"Asu eno Toushi\" by Marina del ray']   \n",
       "338   ['#1: \"Sand Mission\" by ZETKI (eps 1-11)', '#2...   \n",
       "\n",
       "                                           ending_theme  duration_min  \\\n",
       "1327  ['\"Gotta Knock a Little Harder\" by The Seatbel...         114.0   \n",
       "1217  ['#1: \"Half Pain\" by Bana (eps 01-14,16-25)', ...          25.0   \n",
       "925   ['#1: \"For The Love of Life\" by David Sylvian ...          24.0   \n",
       "1171        ['\"TAKE MY SOUL FOREVER\" by Psychic Lover']          25.0   \n",
       "338   ['#1: \"Sunabouzu Ekaki Uta\" by Hideaki Takator...          24.0   \n",
       "\n",
       "      aired_from_year  \n",
       "1327           2001.0  \n",
       "1217           2002.0  \n",
       "925            2004.0  \n",
       "1171           2004.0  \n",
       "338            2004.0  \n",
       "\n",
       "[5 rows x 33 columns]"
      ]
     },
     "execution_count": 295,
     "metadata": {},
     "output_type": "execute_result"
    }
   ],
   "source": [
    "animesDF.sort_values(by=['anime_id']).head()"
   ]
  },
  {
   "cell_type": "code",
   "execution_count": 301,
   "metadata": {},
   "outputs": [
    {
     "data": {
      "text/html": [
       "<div>\n",
       "<style scoped>\n",
       "    .dataframe tbody tr th:only-of-type {\n",
       "        vertical-align: middle;\n",
       "    }\n",
       "\n",
       "    .dataframe tbody tr th {\n",
       "        vertical-align: top;\n",
       "    }\n",
       "\n",
       "    .dataframe thead th {\n",
       "        text-align: right;\n",
       "    }\n",
       "</style>\n",
       "<table border=\"1\" class=\"dataframe\">\n",
       "  <thead>\n",
       "    <tr style=\"text-align: right;\">\n",
       "      <th></th>\n",
       "      <th>username</th>\n",
       "      <th>anime_id</th>\n",
       "      <th>my_score</th>\n",
       "      <th>my_status</th>\n",
       "    </tr>\n",
       "  </thead>\n",
       "  <tbody>\n",
       "    <tr>\n",
       "      <th>866</th>\n",
       "      <td>MistButterfly</td>\n",
       "      <td>59</td>\n",
       "      <td>6</td>\n",
       "      <td>2</td>\n",
       "    </tr>\n",
       "    <tr>\n",
       "      <th>867</th>\n",
       "      <td>MistButterfly</td>\n",
       "      <td>74</td>\n",
       "      <td>7</td>\n",
       "      <td>2</td>\n",
       "    </tr>\n",
       "    <tr>\n",
       "      <th>868</th>\n",
       "      <td>MistButterfly</td>\n",
       "      <td>120</td>\n",
       "      <td>8</td>\n",
       "      <td>2</td>\n",
       "    </tr>\n",
       "    <tr>\n",
       "      <th>869</th>\n",
       "      <td>MistButterfly</td>\n",
       "      <td>178</td>\n",
       "      <td>5</td>\n",
       "      <td>2</td>\n",
       "    </tr>\n",
       "    <tr>\n",
       "      <th>872</th>\n",
       "      <td>MistButterfly</td>\n",
       "      <td>249</td>\n",
       "      <td>7</td>\n",
       "      <td>2</td>\n",
       "    </tr>\n",
       "  </tbody>\n",
       "</table>\n",
       "</div>"
      ],
      "text/plain": [
       "          username  anime_id  my_score  my_status\n",
       "866  MistButterfly        59         6          2\n",
       "867  MistButterfly        74         7          2\n",
       "868  MistButterfly       120         8          2\n",
       "869  MistButterfly       178         5          2\n",
       "872  MistButterfly       249         7          2"
      ]
     },
     "execution_count": 301,
     "metadata": {},
     "output_type": "execute_result"
    }
   ],
   "source": [
    "scoresDF.head()"
   ]
  },
  {
   "cell_type": "code",
   "execution_count": 306,
   "metadata": {},
   "outputs": [],
   "source": [
    "anime_users = scoresDF.pivot(index='anime_id', columns='username', values='my_score')"
   ]
  },
  {
   "cell_type": "code",
   "execution_count": 231,
   "metadata": {},
   "outputs": [
    {
     "data": {
      "text/html": [
       "<div>\n",
       "<style scoped>\n",
       "    .dataframe tbody tr th:only-of-type {\n",
       "        vertical-align: middle;\n",
       "    }\n",
       "\n",
       "    .dataframe tbody tr th {\n",
       "        vertical-align: top;\n",
       "    }\n",
       "\n",
       "    .dataframe thead th {\n",
       "        text-align: right;\n",
       "    }\n",
       "</style>\n",
       "<table border=\"1\" class=\"dataframe\">\n",
       "  <thead>\n",
       "    <tr style=\"text-align: right;\">\n",
       "      <th></th>\n",
       "      <th>username</th>\n",
       "      <th>anime_id</th>\n",
       "      <th>my_score</th>\n",
       "      <th>my_status</th>\n",
       "    </tr>\n",
       "  </thead>\n",
       "  <tbody>\n",
       "    <tr>\n",
       "      <th>3</th>\n",
       "      <td>FadeKyun</td>\n",
       "      <td>20</td>\n",
       "      <td>3</td>\n",
       "      <td>4</td>\n",
       "    </tr>\n",
       "    <tr>\n",
       "      <th>37892</th>\n",
       "      <td>FadeKyun</td>\n",
       "      <td>1482</td>\n",
       "      <td>5</td>\n",
       "      <td>4</td>\n",
       "    </tr>\n",
       "    <tr>\n",
       "      <th>45938</th>\n",
       "      <td>FadeKyun</td>\n",
       "      <td>14749</td>\n",
       "      <td>9</td>\n",
       "      <td>2</td>\n",
       "    </tr>\n",
       "    <tr>\n",
       "      <th>67454</th>\n",
       "      <td>FadeKyun</td>\n",
       "      <td>477</td>\n",
       "      <td>8</td>\n",
       "      <td>2</td>\n",
       "    </tr>\n",
       "    <tr>\n",
       "      <th>71844</th>\n",
       "      <td>FadeKyun</td>\n",
       "      <td>1818</td>\n",
       "      <td>5</td>\n",
       "      <td>4</td>\n",
       "    </tr>\n",
       "  </tbody>\n",
       "</table>\n",
       "</div>"
      ],
      "text/plain": [
       "       username  anime_id  my_score  my_status\n",
       "3      FadeKyun        20         3          4\n",
       "37892  FadeKyun      1482         5          4\n",
       "45938  FadeKyun     14749         9          2\n",
       "67454  FadeKyun       477         8          2\n",
       "71844  FadeKyun      1818         5          4"
      ]
     },
     "execution_count": 231,
     "metadata": {},
     "output_type": "execute_result"
    }
   ],
   "source": [
    "'''\n",
    "gets all user scores\n",
    "'''\n",
    "def get_user_scores(scoresDF, viewer):\n",
    "    return scoresDF.loc[(scoresDF['username'] == viewer)]\n",
    "\n",
    "get_viewer(scoresDF, 'FadeKyun').head()"
   ]
  },
  {
   "cell_type": "code",
   "execution_count": 285,
   "metadata": {},
   "outputs": [],
   "source": [
    "def sim_pearson(scores, anime1_id, anime2_id):\n",
    "    '''Return the Pearson correlation coefficient for anime1 and anime2.'''\n",
    "    scores_anime1 = scores[scores.anime_id == anime1_id]\n",
    "    scores_anime2 = scores[scores.anime_id == anime2_id]\n",
    "    # get the list of shared viewers\n",
    "    shared_viewers = 0\n",
    "    scores1 = np.array([])\n",
    "    scores2 = np.array([])\n",
    "    count = 0\n",
    "    n = scores_anime1.shape[0]\n",
    "    for index, row in scores_anime1.iterrows():\n",
    "        viewer = get_user_scores(scores_anime2, row['username'])\n",
    "        if not viewer.empty:\n",
    "            shared_viewers += 1\n",
    "            scores1 = np.append(scores1, row['my_score'])\n",
    "            scores2 = np.append(scores2, int(viewer['my_score']))\n",
    "        count += 1\n",
    "        if count == n:\n",
    "            print('Viewers cheked: {} out of {} :: Shared: {} :: {}'.format(count, n, shared_viewers, datetime.datetime.now()))\n",
    "            \n",
    "    # if no ratings in common, return 0\n",
    "    if shared_viewers == 0:\n",
    "        return 0\n",
    "\n",
    "    # add up all the preferences\n",
    "    sum1 = np.sum(scores1)\n",
    "    sum2 = np.sum(scores2)\n",
    "    \n",
    "    # sum up the squares\n",
    "    sum1Sq = np.sum(scores1**2)\n",
    "    sum2Sq = np.sum(scores2**2)\n",
    "    \n",
    "    # sum up the products\n",
    "    #pSum = sum([score1*score2 for score1, score2 in zip(scores1, scores2)])\n",
    "    pSum = np.dot(scores1, scores2)\n",
    "    # calculate Pearson score\n",
    "    num = pSum - (sum1 * sum2)/shared_viewers\n",
    "    den = sqrt((sum1Sq - pow(sum1, 2)/shared_viewers) * (sum2Sq - pow(sum2, 2)/shared_viewers))\n",
    "    if den == 0:\n",
    "        return 0\n",
    "    else:\n",
    "        return num/den"
   ]
  },
  {
   "cell_type": "code",
   "execution_count": 286,
   "metadata": {},
   "outputs": [
    {
     "name": "stdout",
     "output_type": "stream",
     "text": [
      "Viewers cheked: 670 out of 670 :: Shared: 553 :: 2020-02-02 18:50:35.488033\n"
     ]
    },
    {
     "data": {
      "text/plain": [
       "0.37532549212144195"
      ]
     },
     "execution_count": 286,
     "metadata": {},
     "output_type": "execute_result"
    }
   ],
   "source": [
    "sim_pearson(scoresDF, 31964, 20)"
   ]
  },
  {
   "cell_type": "code",
   "execution_count": 268,
   "metadata": {},
   "outputs": [],
   "source": [
    "'''\n",
    "builds table of similarity of the shows\n",
    "a[i][j] - similarity of the shows with ids: anime_ids[i-1] and anime_ids[j-1]\n",
    "'''\n",
    "def get_similarity_table(scores, anime_ids):\n",
    "    similarity_table = np.zeros((len(anime_ids)+1, len(anime_ids)+1))\n",
    "    similarity_table[1:, 0] = anime_ids\n",
    "    similarity_table[0, 1:] = anime_ids\n",
    "    n = len(anime_ids)\n",
    "    count = 0\n",
    "    for anime1_id in anime_ids[:1]:\n",
    "        for anime2_id in anime_ids:\n",
    "            if anime1_id != anime2_id:\n",
    "                similarity = sim_pearson(scores, anime1_id, anime2_id)\n",
    "                x = np.where(similarity_table == anime1_id)[0][1]\n",
    "                y = np.where(similarity_table == anime2_id)[0][1]\n",
    "                similarity_table[x][y] = similarity\n",
    "                similarity_table[y][x] = similarity\n",
    "        np.save('similarity_table', similarity_table)\n",
    "        count += 1\n",
    "        print('Processed {} of {} animes :: {}'.format(count, n, datetime.datetime.now()))\n",
    "    return similarity_table"
   ]
  },
  {
   "cell_type": "code",
   "execution_count": 269,
   "metadata": {
    "scrolled": true
   },
   "outputs": [
    {
     "name": "stdout",
     "output_type": "stream",
     "text": [
      "2020-02-02 18:42:26.998525\n"
     ]
    },
    {
     "ename": "KeyboardInterrupt",
     "evalue": "",
     "output_type": "error",
     "traceback": [
      "\u001b[0;31m---------------------------------------------------------------------------\u001b[0m",
      "\u001b[0;31mKeyboardInterrupt\u001b[0m                         Traceback (most recent call last)",
      "\u001b[0;32m<ipython-input-269-42131e878f40>\u001b[0m in \u001b[0;36m<module>\u001b[0;34m\u001b[0m\n\u001b[1;32m      1\u001b[0m \u001b[0mprint\u001b[0m\u001b[0;34m(\u001b[0m\u001b[0mdatetime\u001b[0m\u001b[0;34m.\u001b[0m\u001b[0mdatetime\u001b[0m\u001b[0;34m.\u001b[0m\u001b[0mnow\u001b[0m\u001b[0;34m(\u001b[0m\u001b[0;34m)\u001b[0m\u001b[0;34m)\u001b[0m\u001b[0;34m\u001b[0m\u001b[0;34m\u001b[0m\u001b[0m\n\u001b[0;32m----> 2\u001b[0;31m \u001b[0mget_similarity_table\u001b[0m\u001b[0;34m(\u001b[0m\u001b[0mscoresDF\u001b[0m\u001b[0;34m,\u001b[0m \u001b[0manime_ids\u001b[0m\u001b[0;34m)\u001b[0m\u001b[0;34m\u001b[0m\u001b[0;34m\u001b[0m\u001b[0m\n\u001b[0m",
      "\u001b[0;32m<ipython-input-268-c1ba0fa1c0ba>\u001b[0m in \u001b[0;36mget_similarity_table\u001b[0;34m(scores, anime_ids)\u001b[0m\n\u001b[1;32m     12\u001b[0m         \u001b[0;32mfor\u001b[0m \u001b[0manime2_id\u001b[0m \u001b[0;32min\u001b[0m \u001b[0manime_ids\u001b[0m\u001b[0;34m:\u001b[0m\u001b[0;34m\u001b[0m\u001b[0;34m\u001b[0m\u001b[0m\n\u001b[1;32m     13\u001b[0m             \u001b[0;32mif\u001b[0m \u001b[0manime1_id\u001b[0m \u001b[0;34m!=\u001b[0m \u001b[0manime2_id\u001b[0m\u001b[0;34m:\u001b[0m\u001b[0;34m\u001b[0m\u001b[0;34m\u001b[0m\u001b[0m\n\u001b[0;32m---> 14\u001b[0;31m                 \u001b[0msimilarity\u001b[0m \u001b[0;34m=\u001b[0m \u001b[0msim_pearson\u001b[0m\u001b[0;34m(\u001b[0m\u001b[0mscores\u001b[0m\u001b[0;34m,\u001b[0m \u001b[0manime1_id\u001b[0m\u001b[0;34m,\u001b[0m \u001b[0manime2_id\u001b[0m\u001b[0;34m)\u001b[0m\u001b[0;34m\u001b[0m\u001b[0;34m\u001b[0m\u001b[0m\n\u001b[0m\u001b[1;32m     15\u001b[0m                 \u001b[0mx\u001b[0m \u001b[0;34m=\u001b[0m \u001b[0mnp\u001b[0m\u001b[0;34m.\u001b[0m\u001b[0mwhere\u001b[0m\u001b[0;34m(\u001b[0m\u001b[0msimilarity_table\u001b[0m \u001b[0;34m==\u001b[0m \u001b[0manime1_id\u001b[0m\u001b[0;34m)\u001b[0m\u001b[0;34m[\u001b[0m\u001b[0;36m0\u001b[0m\u001b[0;34m]\u001b[0m\u001b[0;34m[\u001b[0m\u001b[0;36m1\u001b[0m\u001b[0;34m]\u001b[0m\u001b[0;34m\u001b[0m\u001b[0;34m\u001b[0m\u001b[0m\n\u001b[1;32m     16\u001b[0m                 \u001b[0my\u001b[0m \u001b[0;34m=\u001b[0m \u001b[0mnp\u001b[0m\u001b[0;34m.\u001b[0m\u001b[0mwhere\u001b[0m\u001b[0;34m(\u001b[0m\u001b[0msimilarity_table\u001b[0m \u001b[0;34m==\u001b[0m \u001b[0manime2_id\u001b[0m\u001b[0;34m)\u001b[0m\u001b[0;34m[\u001b[0m\u001b[0;36m0\u001b[0m\u001b[0;34m]\u001b[0m\u001b[0;34m[\u001b[0m\u001b[0;36m1\u001b[0m\u001b[0;34m]\u001b[0m\u001b[0;34m\u001b[0m\u001b[0;34m\u001b[0m\u001b[0m\n",
      "\u001b[0;32m<ipython-input-243-030c4becf6b2>\u001b[0m in \u001b[0;36msim_pearson\u001b[0;34m(scores, anime1_id, anime2_id)\u001b[0m\n\u001b[1;32m     10\u001b[0m     \u001b[0mn\u001b[0m \u001b[0;34m=\u001b[0m \u001b[0mscores_anime1\u001b[0m\u001b[0;34m.\u001b[0m\u001b[0mshape\u001b[0m\u001b[0;34m[\u001b[0m\u001b[0;36m0\u001b[0m\u001b[0;34m]\u001b[0m\u001b[0;34m\u001b[0m\u001b[0;34m\u001b[0m\u001b[0m\n\u001b[1;32m     11\u001b[0m     \u001b[0;32mfor\u001b[0m \u001b[0mindex\u001b[0m\u001b[0;34m,\u001b[0m \u001b[0mrow\u001b[0m \u001b[0;32min\u001b[0m \u001b[0mscores_anime1\u001b[0m\u001b[0;34m.\u001b[0m\u001b[0miterrows\u001b[0m\u001b[0;34m(\u001b[0m\u001b[0;34m)\u001b[0m\u001b[0;34m:\u001b[0m\u001b[0;34m\u001b[0m\u001b[0;34m\u001b[0m\u001b[0m\n\u001b[0;32m---> 12\u001b[0;31m         \u001b[0mviewer\u001b[0m \u001b[0;34m=\u001b[0m \u001b[0mget_user_scores\u001b[0m\u001b[0;34m(\u001b[0m\u001b[0mscores_anime2\u001b[0m\u001b[0;34m,\u001b[0m \u001b[0mrow\u001b[0m\u001b[0;34m[\u001b[0m\u001b[0;34m'username'\u001b[0m\u001b[0;34m]\u001b[0m\u001b[0;34m)\u001b[0m\u001b[0;34m\u001b[0m\u001b[0;34m\u001b[0m\u001b[0m\n\u001b[0m\u001b[1;32m     13\u001b[0m         \u001b[0;32mif\u001b[0m \u001b[0;32mnot\u001b[0m \u001b[0mviewer\u001b[0m\u001b[0;34m.\u001b[0m\u001b[0mempty\u001b[0m\u001b[0;34m:\u001b[0m\u001b[0;34m\u001b[0m\u001b[0;34m\u001b[0m\u001b[0m\n\u001b[1;32m     14\u001b[0m             \u001b[0mshared_viewers\u001b[0m \u001b[0;34m+=\u001b[0m \u001b[0;36m1\u001b[0m\u001b[0;34m\u001b[0m\u001b[0;34m\u001b[0m\u001b[0m\n",
      "\u001b[0;32m<ipython-input-231-a1c0a9dad3af>\u001b[0m in \u001b[0;36mget_user_scores\u001b[0;34m(scoresDF, viewer)\u001b[0m\n\u001b[1;32m      3\u001b[0m '''\n\u001b[1;32m      4\u001b[0m \u001b[0;32mdef\u001b[0m \u001b[0mget_user_scores\u001b[0m\u001b[0;34m(\u001b[0m\u001b[0mscoresDF\u001b[0m\u001b[0;34m,\u001b[0m \u001b[0mviewer\u001b[0m\u001b[0;34m)\u001b[0m\u001b[0;34m:\u001b[0m\u001b[0;34m\u001b[0m\u001b[0;34m\u001b[0m\u001b[0m\n\u001b[0;32m----> 5\u001b[0;31m     \u001b[0;32mreturn\u001b[0m \u001b[0mscoresDF\u001b[0m\u001b[0;34m.\u001b[0m\u001b[0mloc\u001b[0m\u001b[0;34m[\u001b[0m\u001b[0;34m(\u001b[0m\u001b[0mscoresDF\u001b[0m\u001b[0;34m[\u001b[0m\u001b[0;34m'username'\u001b[0m\u001b[0;34m]\u001b[0m \u001b[0;34m==\u001b[0m \u001b[0mviewer\u001b[0m\u001b[0;34m)\u001b[0m\u001b[0;34m]\u001b[0m\u001b[0;34m\u001b[0m\u001b[0;34m\u001b[0m\u001b[0m\n\u001b[0m\u001b[1;32m      6\u001b[0m \u001b[0;34m\u001b[0m\u001b[0m\n\u001b[1;32m      7\u001b[0m \u001b[0mget_viewer\u001b[0m\u001b[0;34m(\u001b[0m\u001b[0mscoresDF\u001b[0m\u001b[0;34m,\u001b[0m \u001b[0;34m'FadeKyun'\u001b[0m\u001b[0;34m)\u001b[0m\u001b[0;34m.\u001b[0m\u001b[0mhead\u001b[0m\u001b[0;34m(\u001b[0m\u001b[0;34m)\u001b[0m\u001b[0;34m\u001b[0m\u001b[0;34m\u001b[0m\u001b[0m\n",
      "\u001b[0;32m~/anaconda3/lib/python3.7/site-packages/pandas/core/indexing.py\u001b[0m in \u001b[0;36m__getitem__\u001b[0;34m(self, key)\u001b[0m\n\u001b[1;32m   1498\u001b[0m \u001b[0;34m\u001b[0m\u001b[0m\n\u001b[1;32m   1499\u001b[0m             \u001b[0mmaybe_callable\u001b[0m \u001b[0;34m=\u001b[0m \u001b[0mcom\u001b[0m\u001b[0;34m.\u001b[0m\u001b[0mapply_if_callable\u001b[0m\u001b[0;34m(\u001b[0m\u001b[0mkey\u001b[0m\u001b[0;34m,\u001b[0m \u001b[0mself\u001b[0m\u001b[0;34m.\u001b[0m\u001b[0mobj\u001b[0m\u001b[0;34m)\u001b[0m\u001b[0;34m\u001b[0m\u001b[0;34m\u001b[0m\u001b[0m\n\u001b[0;32m-> 1500\u001b[0;31m             \u001b[0;32mreturn\u001b[0m \u001b[0mself\u001b[0m\u001b[0;34m.\u001b[0m\u001b[0m_getitem_axis\u001b[0m\u001b[0;34m(\u001b[0m\u001b[0mmaybe_callable\u001b[0m\u001b[0;34m,\u001b[0m \u001b[0maxis\u001b[0m\u001b[0;34m=\u001b[0m\u001b[0maxis\u001b[0m\u001b[0;34m)\u001b[0m\u001b[0;34m\u001b[0m\u001b[0;34m\u001b[0m\u001b[0m\n\u001b[0m\u001b[1;32m   1501\u001b[0m \u001b[0;34m\u001b[0m\u001b[0m\n\u001b[1;32m   1502\u001b[0m     \u001b[0;32mdef\u001b[0m \u001b[0m_is_scalar_access\u001b[0m\u001b[0;34m(\u001b[0m\u001b[0mself\u001b[0m\u001b[0;34m,\u001b[0m \u001b[0mkey\u001b[0m\u001b[0;34m)\u001b[0m\u001b[0;34m:\u001b[0m\u001b[0;34m\u001b[0m\u001b[0;34m\u001b[0m\u001b[0m\n",
      "\u001b[0;32m~/anaconda3/lib/python3.7/site-packages/pandas/core/indexing.py\u001b[0m in \u001b[0;36m_getitem_axis\u001b[0;34m(self, key, axis)\u001b[0m\n\u001b[1;32m   1867\u001b[0m             \u001b[0;32mreturn\u001b[0m \u001b[0mself\u001b[0m\u001b[0;34m.\u001b[0m\u001b[0m_get_slice_axis\u001b[0m\u001b[0;34m(\u001b[0m\u001b[0mkey\u001b[0m\u001b[0;34m,\u001b[0m \u001b[0maxis\u001b[0m\u001b[0;34m=\u001b[0m\u001b[0maxis\u001b[0m\u001b[0;34m)\u001b[0m\u001b[0;34m\u001b[0m\u001b[0;34m\u001b[0m\u001b[0m\n\u001b[1;32m   1868\u001b[0m         \u001b[0;32melif\u001b[0m \u001b[0mcom\u001b[0m\u001b[0;34m.\u001b[0m\u001b[0mis_bool_indexer\u001b[0m\u001b[0;34m(\u001b[0m\u001b[0mkey\u001b[0m\u001b[0;34m)\u001b[0m\u001b[0;34m:\u001b[0m\u001b[0;34m\u001b[0m\u001b[0;34m\u001b[0m\u001b[0m\n\u001b[0;32m-> 1869\u001b[0;31m             \u001b[0;32mreturn\u001b[0m \u001b[0mself\u001b[0m\u001b[0;34m.\u001b[0m\u001b[0m_getbool_axis\u001b[0m\u001b[0;34m(\u001b[0m\u001b[0mkey\u001b[0m\u001b[0;34m,\u001b[0m \u001b[0maxis\u001b[0m\u001b[0;34m=\u001b[0m\u001b[0maxis\u001b[0m\u001b[0;34m)\u001b[0m\u001b[0;34m\u001b[0m\u001b[0;34m\u001b[0m\u001b[0m\n\u001b[0m\u001b[1;32m   1870\u001b[0m         \u001b[0;32melif\u001b[0m \u001b[0mis_list_like_indexer\u001b[0m\u001b[0;34m(\u001b[0m\u001b[0mkey\u001b[0m\u001b[0;34m)\u001b[0m\u001b[0;34m:\u001b[0m\u001b[0;34m\u001b[0m\u001b[0;34m\u001b[0m\u001b[0m\n\u001b[1;32m   1871\u001b[0m \u001b[0;34m\u001b[0m\u001b[0m\n",
      "\u001b[0;32m~/anaconda3/lib/python3.7/site-packages/pandas/core/indexing.py\u001b[0m in \u001b[0;36m_getbool_axis\u001b[0;34m(self, key, axis)\u001b[0m\n\u001b[1;32m   1516\u001b[0m         \u001b[0minds\u001b[0m\u001b[0;34m,\u001b[0m \u001b[0;34m=\u001b[0m \u001b[0mkey\u001b[0m\u001b[0;34m.\u001b[0m\u001b[0mnonzero\u001b[0m\u001b[0;34m(\u001b[0m\u001b[0;34m)\u001b[0m\u001b[0;34m\u001b[0m\u001b[0;34m\u001b[0m\u001b[0m\n\u001b[1;32m   1517\u001b[0m         \u001b[0;32mtry\u001b[0m\u001b[0;34m:\u001b[0m\u001b[0;34m\u001b[0m\u001b[0;34m\u001b[0m\u001b[0m\n\u001b[0;32m-> 1518\u001b[0;31m             \u001b[0;32mreturn\u001b[0m \u001b[0mself\u001b[0m\u001b[0;34m.\u001b[0m\u001b[0mobj\u001b[0m\u001b[0;34m.\u001b[0m\u001b[0m_take\u001b[0m\u001b[0;34m(\u001b[0m\u001b[0minds\u001b[0m\u001b[0;34m,\u001b[0m \u001b[0maxis\u001b[0m\u001b[0;34m=\u001b[0m\u001b[0maxis\u001b[0m\u001b[0;34m)\u001b[0m\u001b[0;34m\u001b[0m\u001b[0;34m\u001b[0m\u001b[0m\n\u001b[0m\u001b[1;32m   1519\u001b[0m         \u001b[0;32mexcept\u001b[0m \u001b[0mException\u001b[0m \u001b[0;32mas\u001b[0m \u001b[0mdetail\u001b[0m\u001b[0;34m:\u001b[0m\u001b[0;34m\u001b[0m\u001b[0;34m\u001b[0m\u001b[0m\n\u001b[1;32m   1520\u001b[0m             \u001b[0;32mraise\u001b[0m \u001b[0mself\u001b[0m\u001b[0;34m.\u001b[0m\u001b[0m_exception\u001b[0m\u001b[0;34m(\u001b[0m\u001b[0mdetail\u001b[0m\u001b[0;34m)\u001b[0m\u001b[0;34m\u001b[0m\u001b[0;34m\u001b[0m\u001b[0m\n",
      "\u001b[0;32m~/anaconda3/lib/python3.7/site-packages/pandas/core/generic.py\u001b[0m in \u001b[0;36m_take\u001b[0;34m(self, indices, axis, is_copy)\u001b[0m\n\u001b[1;32m   3357\u001b[0m         new_data = self._data.take(indices,\n\u001b[1;32m   3358\u001b[0m                                    \u001b[0maxis\u001b[0m\u001b[0;34m=\u001b[0m\u001b[0mself\u001b[0m\u001b[0;34m.\u001b[0m\u001b[0m_get_block_manager_axis\u001b[0m\u001b[0;34m(\u001b[0m\u001b[0maxis\u001b[0m\u001b[0;34m)\u001b[0m\u001b[0;34m,\u001b[0m\u001b[0;34m\u001b[0m\u001b[0;34m\u001b[0m\u001b[0m\n\u001b[0;32m-> 3359\u001b[0;31m                                    verify=True)\n\u001b[0m\u001b[1;32m   3360\u001b[0m         \u001b[0mresult\u001b[0m \u001b[0;34m=\u001b[0m \u001b[0mself\u001b[0m\u001b[0;34m.\u001b[0m\u001b[0m_constructor\u001b[0m\u001b[0;34m(\u001b[0m\u001b[0mnew_data\u001b[0m\u001b[0;34m)\u001b[0m\u001b[0;34m.\u001b[0m\u001b[0m__finalize__\u001b[0m\u001b[0;34m(\u001b[0m\u001b[0mself\u001b[0m\u001b[0;34m)\u001b[0m\u001b[0;34m\u001b[0m\u001b[0;34m\u001b[0m\u001b[0m\n\u001b[1;32m   3361\u001b[0m \u001b[0;34m\u001b[0m\u001b[0m\n",
      "\u001b[0;32m~/anaconda3/lib/python3.7/site-packages/pandas/core/internals/managers.py\u001b[0m in \u001b[0;36mtake\u001b[0;34m(self, indexer, axis, verify, convert)\u001b[0m\n\u001b[1;32m   1339\u001b[0m         \u001b[0mn\u001b[0m \u001b[0;34m=\u001b[0m \u001b[0mself\u001b[0m\u001b[0;34m.\u001b[0m\u001b[0mshape\u001b[0m\u001b[0;34m[\u001b[0m\u001b[0maxis\u001b[0m\u001b[0;34m]\u001b[0m\u001b[0;34m\u001b[0m\u001b[0;34m\u001b[0m\u001b[0m\n\u001b[1;32m   1340\u001b[0m         \u001b[0;32mif\u001b[0m \u001b[0mconvert\u001b[0m\u001b[0;34m:\u001b[0m\u001b[0;34m\u001b[0m\u001b[0;34m\u001b[0m\u001b[0m\n\u001b[0;32m-> 1341\u001b[0;31m             \u001b[0mindexer\u001b[0m \u001b[0;34m=\u001b[0m \u001b[0mmaybe_convert_indices\u001b[0m\u001b[0;34m(\u001b[0m\u001b[0mindexer\u001b[0m\u001b[0;34m,\u001b[0m \u001b[0mn\u001b[0m\u001b[0;34m)\u001b[0m\u001b[0;34m\u001b[0m\u001b[0;34m\u001b[0m\u001b[0m\n\u001b[0m\u001b[1;32m   1342\u001b[0m \u001b[0;34m\u001b[0m\u001b[0m\n\u001b[1;32m   1343\u001b[0m         \u001b[0;32mif\u001b[0m \u001b[0mverify\u001b[0m\u001b[0;34m:\u001b[0m\u001b[0;34m\u001b[0m\u001b[0;34m\u001b[0m\u001b[0m\n",
      "\u001b[0;32m~/anaconda3/lib/python3.7/site-packages/pandas/core/indexing.py\u001b[0m in \u001b[0;36mmaybe_convert_indices\u001b[0;34m(indices, n)\u001b[0m\n\u001b[1;32m   2612\u001b[0m \u001b[0;34m\u001b[0m\u001b[0m\n\u001b[1;32m   2613\u001b[0m     \u001b[0mmask\u001b[0m \u001b[0;34m=\u001b[0m \u001b[0;34m(\u001b[0m\u001b[0mindices\u001b[0m \u001b[0;34m>=\u001b[0m \u001b[0mn\u001b[0m\u001b[0;34m)\u001b[0m \u001b[0;34m|\u001b[0m \u001b[0;34m(\u001b[0m\u001b[0mindices\u001b[0m \u001b[0;34m<\u001b[0m \u001b[0;36m0\u001b[0m\u001b[0;34m)\u001b[0m\u001b[0;34m\u001b[0m\u001b[0;34m\u001b[0m\u001b[0m\n\u001b[0;32m-> 2614\u001b[0;31m     \u001b[0;32mif\u001b[0m \u001b[0mmask\u001b[0m\u001b[0;34m.\u001b[0m\u001b[0many\u001b[0m\u001b[0;34m(\u001b[0m\u001b[0;34m)\u001b[0m\u001b[0;34m:\u001b[0m\u001b[0;34m\u001b[0m\u001b[0;34m\u001b[0m\u001b[0m\n\u001b[0m\u001b[1;32m   2615\u001b[0m         \u001b[0;32mraise\u001b[0m \u001b[0mIndexError\u001b[0m\u001b[0;34m(\u001b[0m\u001b[0;34m\"indices are out-of-bounds\"\u001b[0m\u001b[0;34m)\u001b[0m\u001b[0;34m\u001b[0m\u001b[0;34m\u001b[0m\u001b[0m\n\u001b[1;32m   2616\u001b[0m     \u001b[0;32mreturn\u001b[0m \u001b[0mindices\u001b[0m\u001b[0;34m\u001b[0m\u001b[0;34m\u001b[0m\u001b[0m\n",
      "\u001b[0;32m~/anaconda3/lib/python3.7/site-packages/numpy/core/_methods.py\u001b[0m in \u001b[0;36m_any\u001b[0;34m(a, axis, dtype, out, keepdims)\u001b[0m\n\u001b[1;32m     41\u001b[0m \u001b[0;34m\u001b[0m\u001b[0m\n\u001b[1;32m     42\u001b[0m \u001b[0;32mdef\u001b[0m \u001b[0m_any\u001b[0m\u001b[0;34m(\u001b[0m\u001b[0ma\u001b[0m\u001b[0;34m,\u001b[0m \u001b[0maxis\u001b[0m\u001b[0;34m=\u001b[0m\u001b[0;32mNone\u001b[0m\u001b[0;34m,\u001b[0m \u001b[0mdtype\u001b[0m\u001b[0;34m=\u001b[0m\u001b[0;32mNone\u001b[0m\u001b[0;34m,\u001b[0m \u001b[0mout\u001b[0m\u001b[0;34m=\u001b[0m\u001b[0;32mNone\u001b[0m\u001b[0;34m,\u001b[0m \u001b[0mkeepdims\u001b[0m\u001b[0;34m=\u001b[0m\u001b[0;32mFalse\u001b[0m\u001b[0;34m)\u001b[0m\u001b[0;34m:\u001b[0m\u001b[0;34m\u001b[0m\u001b[0;34m\u001b[0m\u001b[0m\n\u001b[0;32m---> 43\u001b[0;31m     \u001b[0;32mreturn\u001b[0m \u001b[0mumr_any\u001b[0m\u001b[0;34m(\u001b[0m\u001b[0ma\u001b[0m\u001b[0;34m,\u001b[0m \u001b[0maxis\u001b[0m\u001b[0;34m,\u001b[0m \u001b[0mdtype\u001b[0m\u001b[0;34m,\u001b[0m \u001b[0mout\u001b[0m\u001b[0;34m,\u001b[0m \u001b[0mkeepdims\u001b[0m\u001b[0;34m)\u001b[0m\u001b[0;34m\u001b[0m\u001b[0;34m\u001b[0m\u001b[0m\n\u001b[0m\u001b[1;32m     44\u001b[0m \u001b[0;34m\u001b[0m\u001b[0m\n\u001b[1;32m     45\u001b[0m \u001b[0;32mdef\u001b[0m \u001b[0m_all\u001b[0m\u001b[0;34m(\u001b[0m\u001b[0ma\u001b[0m\u001b[0;34m,\u001b[0m \u001b[0maxis\u001b[0m\u001b[0;34m=\u001b[0m\u001b[0;32mNone\u001b[0m\u001b[0;34m,\u001b[0m \u001b[0mdtype\u001b[0m\u001b[0;34m=\u001b[0m\u001b[0;32mNone\u001b[0m\u001b[0;34m,\u001b[0m \u001b[0mout\u001b[0m\u001b[0;34m=\u001b[0m\u001b[0;32mNone\u001b[0m\u001b[0;34m,\u001b[0m \u001b[0mkeepdims\u001b[0m\u001b[0;34m=\u001b[0m\u001b[0;32mFalse\u001b[0m\u001b[0;34m)\u001b[0m\u001b[0;34m:\u001b[0m\u001b[0;34m\u001b[0m\u001b[0;34m\u001b[0m\u001b[0m\n",
      "\u001b[0;31mKeyboardInterrupt\u001b[0m: "
     ]
    }
   ],
   "source": [
    "print(datetime.datetime.now())\n",
    "get_similarity_table(scoresDF, anime_ids)"
   ]
  },
  {
   "cell_type": "code",
   "execution_count": 247,
   "metadata": {},
   "outputs": [],
   "source": [
    "test = Out[246]"
   ]
  },
  {
   "cell_type": "code",
   "execution_count": 250,
   "metadata": {},
   "outputs": [
    {
     "data": {
      "text/plain": [
       "array([0., 5.])"
      ]
     },
     "execution_count": 250,
     "metadata": {},
     "output_type": "execute_result"
    }
   ],
   "source": [
    "np.unique(test[1])"
   ]
  },
  {
   "cell_type": "code",
   "execution_count": 28,
   "metadata": {},
   "outputs": [],
   "source": [
    "'''\n",
    "loads user's scores from MAL xml file converted to csv\n",
    "'''\n",
    "def load_user_list(path):\n",
    "    userDF = pd.read_csv(path)\n",
    "    return userDF[['series_animedb_id', 'my_score']][userDF['my_score']!=0]"
   ]
  },
  {
   "cell_type": "code",
   "execution_count": 29,
   "metadata": {},
   "outputs": [],
   "source": [
    "cmlimmDF = load_user_list('../../../Downloads/animelist_cmlimm.csv')"
   ]
  },
  {
   "cell_type": "code",
   "execution_count": 30,
   "metadata": {},
   "outputs": [],
   "source": [
    "'''\n",
    "find user's shows that exist in MAL dataset, as some shows aired after dataset was created\n",
    "'''\n",
    "def user_shows_in_db(userDF, animesDF):\n",
    "    return userDF[userDF[['series_animedb_id']].isin(animesDF.anime_id.unique()).any(1)]"
   ]
  },
  {
   "cell_type": "code",
   "execution_count": 31,
   "metadata": {},
   "outputs": [
    {
     "data": {
      "text/plain": [
       "array([[32977,     7],\n",
       "       [22147,     9],\n",
       "       [35015,     7],\n",
       "       [ 2251,    10],\n",
       "       [ 3901,     8],\n",
       "       [35965,     7],\n",
       "       [28805,     7],\n",
       "       [32664,     6],\n",
       "       [31964,     8],\n",
       "       [33486,    10],\n",
       "       [35262,     5],\n",
       "       [36456,     9],\n",
       "       [33929,     8],\n",
       "       [35459,     8],\n",
       "       [16592,     6],\n",
       "       [35849,     8],\n",
       "       [30346,     7],\n",
       "       [ 6746,     8],\n",
       "       [ 9314,     7],\n",
       "       [18507,     7],\n",
       "       [22265,     8],\n",
       "       [26213,     8],\n",
       "       [19671,     7],\n",
       "       [35198,     8],\n",
       "       [33731,     5],\n",
       "       [ 2890,     7],\n",
       "       [18229,     7],\n",
       "       [20583,     9],\n",
       "       [28891,     9],\n",
       "       [32935,     9],\n",
       "       [25303,     7],\n",
       "       [35806,     7],\n",
       "       [27989,    10],\n",
       "       [31988,    10],\n",
       "       [34204,     7],\n",
       "       [31665,     7],\n",
       "       [31096,     7],\n",
       "       [30415,     8],\n",
       "       [33241,     6],\n",
       "       [10357,     9],\n",
       "       [ 5680,     6],\n",
       "       [ 9617,     6],\n",
       "       [ 7791,     6],\n",
       "       [ 9734,     6],\n",
       "       [ 6862,     6],\n",
       "       [32686,     7],\n",
       "       [18679,     9],\n",
       "       [21659,     7],\n",
       "       [35159,     7],\n",
       "       [32281,     8],\n",
       "       [31798,     4],\n",
       "       [28851,     9],\n",
       "       [30831,     7],\n",
       "       [32937,     8],\n",
       "       [37272,     4],\n",
       "       [34712,     9],\n",
       "       [37023,     6],\n",
       "       [33489,     9],\n",
       "       [19489,     7],\n",
       "       [35677,     7],\n",
       "       [15051,     7],\n",
       "       [19111,     7],\n",
       "       [20745,     7],\n",
       "       [32526,     2],\n",
       "       [24997,     7],\n",
       "       [34599,     8],\n",
       "       [21603,     5],\n",
       "       [36982,     7],\n",
       "       [10165,     7],\n",
       "       [19815,     7],\n",
       "       [10161,     8],\n",
       "       [21557,     7],\n",
       "       [31559,     6],\n",
       "       [ 6675,     5],\n",
       "       [ 5671,     7],\n",
       "       [10884,     7],\n",
       "       [15989,     7],\n",
       "       [16123,     7],\n",
       "       [20047,     2],\n",
       "       [31540,     3],\n",
       "       [34240,     7],\n",
       "       [29786,     6],\n",
       "       [16498,     6],\n",
       "       [36943,     3],\n",
       "       [ 6162,     6],\n",
       "       [ 6213,    10],\n",
       "       [16049,    10],\n",
       "       [22759,     6],\n",
       "       [19697,     6],\n",
       "       [ 9063,     5],\n",
       "       [ 9047,     6],\n",
       "       [ 8023,     6],\n",
       "       [  523,     7],\n",
       "       [10294,     6],\n",
       "       [10713,     6],\n",
       "       [10714,     6],\n",
       "       [10715,     6],\n",
       "       [10716,     6],\n",
       "       [10717,     6],\n",
       "       [12883,     7],\n",
       "       [33352,    10],\n",
       "       [32995,     9],\n",
       "       [35382,     4],\n",
       "       [34798,     5],\n",
       "       [37341,     5],\n",
       "       [10495,     7],\n",
       "       [23225,     8],\n",
       "       [30902,     7],\n",
       "       [30279,     8],\n",
       "       [12403,     8]])"
      ]
     },
     "execution_count": 31,
     "metadata": {},
     "output_type": "execute_result"
    }
   ],
   "source": [
    "np.array(user_shows_in_db(cmlimmDF, animesDF))"
   ]
  },
  {
   "cell_type": "code",
   "execution_count": 32,
   "metadata": {},
   "outputs": [],
   "source": [
    "'''\n",
    "finds top matches based on shows similarities\n",
    "'''\n",
    "def top_matches(similarity_table, user_show_scores):\n",
    "    result = np.empty((0,2), int)\n",
    "    user_shows = user_show_scores[:, 0]\n",
    "    user_scores = user_show_scores[:, 1]\n",
    "    to_delete = []\n",
    "    for show in user_shows:\n",
    "        y = np.where(similarity_table == show)[0][1]\n",
    "        to_delete.append(y)\n",
    "    similarity_table = np.delete(similarity_table, to_delete, 1)\n",
    "    to_delete = []\n",
    "    for show in similarity_table[1:, 0]:\n",
    "        if show not in user_shows:\n",
    "            x = np.where(similarity_table == show)[0][1]\n",
    "            to_delete.append(x)\n",
    "    similarity_table = np.delete(similarity_table, to_delete, 0)\n",
    "    for column in similarity_table.T[1:]:\n",
    "        result = np.append(result, [[column[0], np.dot(column[1:], user_scores)/np.sum(column[1:])]], axis=0)\n",
    "    return result[result[:,1].argsort()][::-1]"
   ]
  },
  {
   "cell_type": "code",
   "execution_count": 33,
   "metadata": {},
   "outputs": [],
   "source": [
    "def show_names(matches, animesDF):\n",
    "    for show in matches:\n",
    "        print(animesDF[animesDF['anime_id']==show[0]]['title'].values[0])"
   ]
  }
 ],
 "metadata": {
  "kernelspec": {
   "display_name": "Python 3",
   "language": "python",
   "name": "python3"
  },
  "language_info": {
   "codemirror_mode": {
    "name": "ipython",
    "version": 3
   },
   "file_extension": ".py",
   "mimetype": "text/x-python",
   "name": "python",
   "nbconvert_exporter": "python",
   "pygments_lexer": "ipython3",
   "version": "3.7.3"
  }
 },
 "nbformat": 4,
 "nbformat_minor": 2
}
