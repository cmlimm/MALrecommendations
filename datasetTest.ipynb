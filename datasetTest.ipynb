{
 "cells": [
  {
   "cell_type": "code",
   "execution_count": 111,
   "metadata": {},
   "outputs": [],
   "source": [
    "import pandas as pd\n",
    "import matplotlib as plt\n",
    "import math\n",
    "import datetime"
   ]
  },
  {
   "cell_type": "code",
   "execution_count": 25,
   "metadata": {},
   "outputs": [],
   "source": [
    "usersDF = pd.read_csv('../../../Downloads/myanimelist/users_cleaned.csv')\n",
    "animesDF = pd.read_csv('../../../Downloads/myanimelist/anime_cleaned.csv')\n",
    "scoresDF = pd.read_csv('../../../Downloads/myanimelist/scores.csv')\n",
    "scores_sortedDF = pd.read_csv('../../../Downloads/myanimelist/scores_sorted.csv')"
   ]
  },
  {
   "cell_type": "code",
   "execution_count": 28,
   "metadata": {},
   "outputs": [
    {
     "name": "stdout",
     "output_type": "stream",
     "text": [
      "(108711, 17) (6668, 33) (19066725, 4) (19066725, 4)\n"
     ]
    }
   ],
   "source": [
    "print(usersDF.shape, animesDF.shape, scoresDF.shape, scores_sortedDF.shape)"
   ]
  },
  {
   "cell_type": "code",
   "execution_count": 26,
   "metadata": {},
   "outputs": [
    {
     "data": {
      "text/html": [
       "<div>\n",
       "<style scoped>\n",
       "    .dataframe tbody tr th:only-of-type {\n",
       "        vertical-align: middle;\n",
       "    }\n",
       "\n",
       "    .dataframe tbody tr th {\n",
       "        vertical-align: top;\n",
       "    }\n",
       "\n",
       "    .dataframe thead th {\n",
       "        text-align: right;\n",
       "    }\n",
       "</style>\n",
       "<table border=\"1\" class=\"dataframe\">\n",
       "  <thead>\n",
       "    <tr style=\"text-align: right;\">\n",
       "      <th></th>\n",
       "      <th>username</th>\n",
       "      <th>anime_id</th>\n",
       "      <th>my_score</th>\n",
       "      <th>my_status</th>\n",
       "    </tr>\n",
       "  </thead>\n",
       "  <tbody>\n",
       "    <tr>\n",
       "      <th>0</th>\n",
       "      <td>karthiga</td>\n",
       "      <td>21</td>\n",
       "      <td>9</td>\n",
       "      <td>1</td>\n",
       "    </tr>\n",
       "    <tr>\n",
       "      <th>1</th>\n",
       "      <td>karthiga</td>\n",
       "      <td>59</td>\n",
       "      <td>7</td>\n",
       "      <td>2</td>\n",
       "    </tr>\n",
       "    <tr>\n",
       "      <th>2</th>\n",
       "      <td>karthiga</td>\n",
       "      <td>74</td>\n",
       "      <td>7</td>\n",
       "      <td>2</td>\n",
       "    </tr>\n",
       "    <tr>\n",
       "      <th>3</th>\n",
       "      <td>karthiga</td>\n",
       "      <td>120</td>\n",
       "      <td>7</td>\n",
       "      <td>2</td>\n",
       "    </tr>\n",
       "    <tr>\n",
       "      <th>4</th>\n",
       "      <td>karthiga</td>\n",
       "      <td>178</td>\n",
       "      <td>7</td>\n",
       "      <td>2</td>\n",
       "    </tr>\n",
       "  </tbody>\n",
       "</table>\n",
       "</div>"
      ],
      "text/plain": [
       "   username  anime_id  my_score  my_status\n",
       "0  karthiga        21         9          1\n",
       "1  karthiga        59         7          2\n",
       "2  karthiga        74         7          2\n",
       "3  karthiga       120         7          2\n",
       "4  karthiga       178         7          2"
      ]
     },
     "execution_count": 26,
     "metadata": {},
     "output_type": "execute_result"
    }
   ],
   "source": [
    "scoresDF.head()"
   ]
  },
  {
   "cell_type": "code",
   "execution_count": 27,
   "metadata": {
    "scrolled": false
   },
   "outputs": [
    {
     "data": {
      "text/html": [
       "<div>\n",
       "<style scoped>\n",
       "    .dataframe tbody tr th:only-of-type {\n",
       "        vertical-align: middle;\n",
       "    }\n",
       "\n",
       "    .dataframe tbody tr th {\n",
       "        vertical-align: top;\n",
       "    }\n",
       "\n",
       "    .dataframe thead th {\n",
       "        text-align: right;\n",
       "    }\n",
       "</style>\n",
       "<table border=\"1\" class=\"dataframe\">\n",
       "  <thead>\n",
       "    <tr style=\"text-align: right;\">\n",
       "      <th></th>\n",
       "      <th>username</th>\n",
       "      <th>anime_id</th>\n",
       "      <th>my_score</th>\n",
       "      <th>my_status</th>\n",
       "    </tr>\n",
       "  </thead>\n",
       "  <tbody>\n",
       "    <tr>\n",
       "      <th>0</th>\n",
       "      <td>bushwhacker2k</td>\n",
       "      <td>1</td>\n",
       "      <td>7</td>\n",
       "      <td>1</td>\n",
       "    </tr>\n",
       "    <tr>\n",
       "      <th>1</th>\n",
       "      <td>swampybr</td>\n",
       "      <td>1</td>\n",
       "      <td>9</td>\n",
       "      <td>2</td>\n",
       "    </tr>\n",
       "    <tr>\n",
       "      <th>2</th>\n",
       "      <td>Uotani</td>\n",
       "      <td>1</td>\n",
       "      <td>9</td>\n",
       "      <td>2</td>\n",
       "    </tr>\n",
       "    <tr>\n",
       "      <th>3</th>\n",
       "      <td>JoeAteMyPencil</td>\n",
       "      <td>1</td>\n",
       "      <td>10</td>\n",
       "      <td>2</td>\n",
       "    </tr>\n",
       "    <tr>\n",
       "      <th>4</th>\n",
       "      <td>XuXu89</td>\n",
       "      <td>1</td>\n",
       "      <td>8</td>\n",
       "      <td>1</td>\n",
       "    </tr>\n",
       "  </tbody>\n",
       "</table>\n",
       "</div>"
      ],
      "text/plain": [
       "         username  anime_id  my_score  my_status\n",
       "0   bushwhacker2k         1         7          1\n",
       "1        swampybr         1         9          2\n",
       "2          Uotani         1         9          2\n",
       "3  JoeAteMyPencil         1        10          2\n",
       "4          XuXu89         1         8          1"
      ]
     },
     "execution_count": 27,
     "metadata": {},
     "output_type": "execute_result"
    }
   ],
   "source": [
    "scores_sortedDF.head()"
   ]
  },
  {
   "cell_type": "code",
   "execution_count": 129,
   "metadata": {},
   "outputs": [
    {
     "name": "stdout",
     "output_type": "stream",
     "text": [
      "2020-01-31 18:17:34.924598\n",
      "2020-01-31 18:17:36.371449\n"
     ]
    }
   ],
   "source": [
    "def get_viewer(scoresDF, viewer):\n",
    "    return scoresDF.loc[(scoresDF['username'] == viewer)]\n",
    "\n",
    "print(datetime.datetime.now())\n",
    "get_viewer(scoresDF, 'Faultydoombot')\n",
    "print(datetime.datetime.now())"
   ]
  },
  {
   "cell_type": "code",
   "execution_count": 148,
   "metadata": {},
   "outputs": [],
   "source": [
    "# change to numpy arrays??\n",
    "def sim_pearson(scores, anime1_id, anime2_id):\n",
    "    '''Return the Pearson correlation coefficient for anime1 and anime2.'''\n",
    "    scores_anime1 = scores[scoresDF.anime_id == anime1_id]\n",
    "    scores_anime2 = scores[scoresDF.anime_id == anime2_id]\n",
    "    # get the list of shared viewers\n",
    "    shared_viewers = 0\n",
    "    scores1 = []\n",
    "    scores2 = []\n",
    "    count = 0\n",
    "    n = scores_anime1.shape[0]\n",
    "    for index, row in scores_anime1.iterrows():\n",
    "        viewer = get_viewer(scores_anime2, row['username'])\n",
    "        if not viewer.empty:\n",
    "            shared_viewers += 1\n",
    "            scores1.append(row['my_score'])\n",
    "            scores2.append(int(viewer['my_score']))\n",
    "        count += 1\n",
    "        if count % 1000 == 0:\n",
    "            print('Viewers cheked: {} out of {} :: Shared: {} :: {}'.format(count, n, shared_viewers, datetime.datetime.now()))\n",
    "            \n",
    "    # if no ratings in common, return 0\n",
    "    if shared_viewers == 0:\n",
    "        return 0\n",
    "\n",
    "    # add up all the preferences\n",
    "    sum1 = sum(scores1)\n",
    "    sum2 = sum(scores2)\n",
    "    \n",
    "    # sum up the squares\n",
    "    sum1Sq = sum([pow(score, 2) for score in scores1])\n",
    "    sum2Sq = sum([pow(score, 2) for score in scores2])\n",
    "    \n",
    "    # sum up the products\n",
    "    pSum = sum([score1*score2 for score1, score2 in zip(scores1, scores2)])\n",
    "    \n",
    "    # calculate Pearson score\n",
    "    num = pSum - (sum1 * sum2)/shared_viewers\n",
    "    den = sqrt((sum1Sq - pow(sum1, 2)/shared_viewers) * (sum2Sq - pow(sum2, 2)/shared_viewers))\n",
    "    if den == 0:\n",
    "        return 0\n",
    "    else:\n",
    "        return num/den # between(-1, 1)"
   ]
  },
  {
   "cell_type": "code",
   "execution_count": 149,
   "metadata": {},
   "outputs": [
    {
     "name": "stdout",
     "output_type": "stream",
     "text": [
      "Viewers cheked: 1000 out of 39015 :: Shared: 940 :: 2020-01-31 18:49:45.469201\n",
      "Viewers cheked: 2000 out of 39015 :: Shared: 1883 :: 2020-01-31 18:49:51.909977\n",
      "Viewers cheked: 3000 out of 39015 :: Shared: 2811 :: 2020-01-31 18:49:57.800839\n",
      "Viewers cheked: 4000 out of 39015 :: Shared: 3754 :: 2020-01-31 18:50:03.669125\n",
      "Viewers cheked: 5000 out of 39015 :: Shared: 4701 :: 2020-01-31 18:50:09.593985\n",
      "Viewers cheked: 6000 out of 39015 :: Shared: 5647 :: 2020-01-31 18:50:15.662693\n",
      "Viewers cheked: 7000 out of 39015 :: Shared: 6577 :: 2020-01-31 18:50:21.517537\n",
      "Viewers cheked: 8000 out of 39015 :: Shared: 7523 :: 2020-01-31 18:50:27.276128\n",
      "Viewers cheked: 9000 out of 39015 :: Shared: 8477 :: 2020-01-31 18:50:33.024539\n",
      "Viewers cheked: 10000 out of 39015 :: Shared: 9422 :: 2020-01-31 18:50:38.843304\n",
      "Viewers cheked: 11000 out of 39015 :: Shared: 10368 :: 2020-01-31 18:50:44.677069\n",
      "Viewers cheked: 12000 out of 39015 :: Shared: 11314 :: 2020-01-31 18:50:50.452456\n",
      "Viewers cheked: 13000 out of 39015 :: Shared: 12257 :: 2020-01-31 18:50:56.740417\n",
      "Viewers cheked: 14000 out of 39015 :: Shared: 13192 :: 2020-01-31 18:51:02.569852\n",
      "Viewers cheked: 15000 out of 39015 :: Shared: 14111 :: 2020-01-31 18:51:08.593403\n",
      "Viewers cheked: 16000 out of 39015 :: Shared: 15043 :: 2020-01-31 18:51:14.769056\n",
      "Viewers cheked: 17000 out of 39015 :: Shared: 15962 :: 2020-01-31 18:51:20.877962\n",
      "Viewers cheked: 18000 out of 39015 :: Shared: 16890 :: 2020-01-31 18:51:26.742276\n",
      "Viewers cheked: 19000 out of 39015 :: Shared: 17804 :: 2020-01-31 18:51:32.701458\n",
      "Viewers cheked: 20000 out of 39015 :: Shared: 18732 :: 2020-01-31 18:51:38.686363\n",
      "Viewers cheked: 21000 out of 39015 :: Shared: 19653 :: 2020-01-31 18:51:44.600081\n",
      "Viewers cheked: 22000 out of 39015 :: Shared: 20577 :: 2020-01-31 18:51:50.496451\n",
      "Viewers cheked: 23000 out of 39015 :: Shared: 21497 :: 2020-01-31 18:51:56.393372\n",
      "Viewers cheked: 24000 out of 39015 :: Shared: 22423 :: 2020-01-31 18:52:02.192199\n",
      "Viewers cheked: 25000 out of 39015 :: Shared: 23348 :: 2020-01-31 18:52:08.827946\n",
      "Viewers cheked: 26000 out of 39015 :: Shared: 24286 :: 2020-01-31 18:52:16.218826\n",
      "Viewers cheked: 27000 out of 39015 :: Shared: 25213 :: 2020-01-31 18:52:24.104064\n",
      "Viewers cheked: 28000 out of 39015 :: Shared: 26127 :: 2020-01-31 18:52:31.355289\n",
      "Viewers cheked: 29000 out of 39015 :: Shared: 27044 :: 2020-01-31 18:52:39.988437\n",
      "Viewers cheked: 30000 out of 39015 :: Shared: 27909 :: 2020-01-31 18:52:46.232524\n",
      "Viewers cheked: 31000 out of 39015 :: Shared: 28800 :: 2020-01-31 18:52:52.525592\n",
      "Viewers cheked: 32000 out of 39015 :: Shared: 29689 :: 2020-01-31 18:52:58.611002\n",
      "Viewers cheked: 33000 out of 39015 :: Shared: 30581 :: 2020-01-31 18:53:04.491921\n",
      "Viewers cheked: 34000 out of 39015 :: Shared: 31461 :: 2020-01-31 18:53:11.038725\n",
      "Viewers cheked: 35000 out of 39015 :: Shared: 32348 :: 2020-01-31 18:53:17.007444\n",
      "Viewers cheked: 36000 out of 39015 :: Shared: 33219 :: 2020-01-31 18:53:23.073842\n",
      "Viewers cheked: 37000 out of 39015 :: Shared: 34084 :: 2020-01-31 18:53:28.831795\n",
      "Viewers cheked: 38000 out of 39015 :: Shared: 34934 :: 2020-01-31 18:53:34.744220\n",
      "Viewers cheked: 39000 out of 39015 :: Shared: 35729 :: 2020-01-31 18:53:40.561818\n"
     ]
    },
    {
     "data": {
      "text/plain": [
       "0.7065833687115664"
      ]
     },
     "execution_count": 149,
     "metadata": {},
     "output_type": "execute_result"
    }
   ],
   "source": [
    "sim_pearson(scoresDF, 1735, 20) #comparing Naruto and Naruto: Shippuuden"
   ]
  },
  {
   "cell_type": "code",
   "execution_count": null,
   "metadata": {},
   "outputs": [],
   "source": []
  }
 ],
 "metadata": {
  "kernelspec": {
   "display_name": "Python 3",
   "language": "python",
   "name": "python3"
  },
  "language_info": {
   "codemirror_mode": {
    "name": "ipython",
    "version": 3
   },
   "file_extension": ".py",
   "mimetype": "text/x-python",
   "name": "python",
   "nbconvert_exporter": "python",
   "pygments_lexer": "ipython3",
   "version": "3.7.3"
  }
 },
 "nbformat": 4,
 "nbformat_minor": 2
}
